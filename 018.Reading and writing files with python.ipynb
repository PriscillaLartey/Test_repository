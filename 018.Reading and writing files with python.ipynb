{
 "cells": [
  {
   "cell_type": "markdown",
   "metadata": {},
   "source": [
    "# Reading and writing files"
   ]
  },
  {
   "cell_type": "markdown",
   "metadata": {},
   "source": [
    "### Reading a file\n",
    "f = open('file_path','r')#This code opens the file \n",
    "file_data = f.read() #Display the content of the file with read method.\n",
    "f.close()#close the file to free up space in memory."
   ]
  },
  {
   "cell_type": "code",
   "execution_count": 4,
   "metadata": {},
   "outputs": [],
   "source": [
    "f = open('myfile.txt', 'r')\n",
    "file_data=f.read()\n",
    "f.close()"
   ]
  },
  {
   "cell_type": "code",
   "execution_count": 5,
   "metadata": {},
   "outputs": [
    {
     "data": {
      "text/plain": [
       "'Hi!,\\nYou are welcome lesson of python programming with Sir Jethro.\\nIn this lesson, you will learn how to read and write files.\\nHappy learning.'"
      ]
     },
     "execution_count": 5,
     "metadata": {},
     "output_type": "execute_result"
    }
   ],
   "source": [
    "file_data"
   ]
  },
  {
   "cell_type": "code",
   "execution_count": 6,
   "metadata": {},
   "outputs": [],
   "source": [
    "f = open('myfile.txt', 'r')\n",
    "file_data=f.read(10)\n",
    "f.close()"
   ]
  },
  {
   "cell_type": "code",
   "execution_count": 7,
   "metadata": {},
   "outputs": [
    {
     "data": {
      "text/plain": [
       "'Hi!,\\nYou a'"
      ]
     },
     "execution_count": 7,
     "metadata": {},
     "output_type": "execute_result"
    }
   ],
   "source": [
    "file_data"
   ]
  },
  {
   "cell_type": "markdown",
   "metadata": {},
   "source": [
    "### Writing a file"
   ]
  },
  {
   "cell_type": "code",
   "execution_count": 8,
   "metadata": {},
   "outputs": [],
   "source": [
    "f = open('Students_list.txt', 'w')\n",
    "f.write('Ayoba Daniel,\\nLovely Doe,\\nSonia Mimosa,\\nAndy Dackson,\\nNaa Gwewah')\n",
    "f.close()"
   ]
  },
  {
   "cell_type": "code",
   "execution_count": 9,
   "metadata": {},
   "outputs": [],
   "source": [
    "file = open('Students_list.txt', 'r')\n",
    "List_of_students=file.read()\n",
    "file.close()"
   ]
  },
  {
   "cell_type": "code",
   "execution_count": 10,
   "metadata": {},
   "outputs": [
    {
     "data": {
      "text/plain": [
       "'Ayoba Daniel,\\nLovely Doe,\\nSonia Mimosa,\\nAndy Dackson,\\nNaa Gwewah'"
      ]
     },
     "execution_count": 10,
     "metadata": {},
     "output_type": "execute_result"
    }
   ],
   "source": [
    "List_of_students"
   ]
  },
  {
   "cell_type": "code",
   "execution_count": 11,
   "metadata": {},
   "outputs": [
    {
     "name": "stdout",
     "output_type": "stream",
     "text": [
      "Ayoba Daniel,\n",
      "Lovely Doe,\n",
      "Sonia Mimosa,\n",
      "Andy Dackson,\n",
      "Naa Gwewah\n"
     ]
    }
   ],
   "source": [
    "print(List_of_students)"
   ]
  },
  {
   "cell_type": "markdown",
   "metadata": {},
   "source": [
    "### Reading files using the 'with' keyword.\n",
    "\n",
    "Reading files using the with keyword in python automatically closes the file for you."
   ]
  },
  {
   "cell_type": "code",
   "execution_count": 12,
   "metadata": {},
   "outputs": [],
   "source": [
    "with open('Students_list.txt', 'r') as file:\n",
    "    List_of_students=file.read()\n"
   ]
  },
  {
   "cell_type": "code",
   "execution_count": 13,
   "metadata": {},
   "outputs": [
    {
     "name": "stdout",
     "output_type": "stream",
     "text": [
      "Ayoba Daniel,\n",
      "Lovely Doe,\n",
      "Sonia Mimosa,\n",
      "Andy Dackson,\n",
      "Naa Gwewah\n"
     ]
    }
   ],
   "source": [
    "print(List_of_students)"
   ]
  },
  {
   "cell_type": "markdown",
   "metadata": {},
   "source": [
    "### Reading files line by line"
   ]
  },
  {
   "cell_type": "code",
   "execution_count": 14,
   "metadata": {},
   "outputs": [],
   "source": [
    "#eg:1\n",
    "f = open('myfile.txt', 'r')\n",
    "file_data=f.readlines()\n",
    "f.close()"
   ]
  },
  {
   "cell_type": "code",
   "execution_count": 39,
   "metadata": {},
   "outputs": [
    {
     "data": {
      "text/plain": [
       "['Hi!,\\n',\n",
       " 'You are welcome lesson of python programming with Sir Jethro.\\n',\n",
       " 'In this lesson, you will learn how to read and write files.\\n',\n",
       " 'Happy learning.']"
      ]
     },
     "execution_count": 39,
     "metadata": {},
     "output_type": "execute_result"
    }
   ],
   "source": [
    "file_data"
   ]
  },
  {
   "cell_type": "code",
   "execution_count": 40,
   "metadata": {},
   "outputs": [
    {
     "name": "stdout",
     "output_type": "stream",
     "text": [
      "Hi!,\n",
      "You are welcome lesson of python programming with Sir Jethro.\n",
      "In this lesson, you will learn how to read and write files.\n",
      "Happy learning.\n"
     ]
    }
   ],
   "source": [
    "for line in file_data:\n",
    "    print(line.strip('\\n'))"
   ]
  },
  {
   "cell_type": "code",
   "execution_count": 15,
   "metadata": {},
   "outputs": [
    {
     "name": "stdout",
     "output_type": "stream",
     "text": [
      "['God bless our homeland Ghana,', 'And make our nation great and strong,', 'Bold to defend for ever,', 'The cause of Freedom and of Right.', 'Fill our hearts with true humility', 'Make us cherish fearless honesty,', \"And help us to resist oppressor's rule\", 'With all our will and might for evermore.', '', 'Hail to thy name, O Ghana,', 'To thee we make our solemn vow:', 'Steadfast to build together', 'A nation strong in Unity;', 'With our gifts of mind and strength of arm,', 'Whether night or day, in mist or storm,', \"In every need what'er the call may be,\", 'To serve thee, Ghana, now and evermore.', '', 'Raise high the flag of Ghana', 'And one with Africa advance;', 'Black star of hope and honour,', 'To all who thirst for liberty;', 'Where the banner of Ghana freely flies,', 'May the way of freedom truly lie', 'Arise, arise, O sons of Ghanaland,', 'And under God march on for evermore.', '', 'Raise high the flag of Ghana', 'And one with Africa advance;', 'Black star of hope and honour,', 'To all who thirst for liberty;', 'Where the banner of Ghana freely flies,', 'May the way of freedom truly lie', 'Arise, arise, O sons of Ghanaland,', 'And under God march on for evermore.']\n"
     ]
    }
   ],
   "source": [
    "#eg:2\n",
    "anthem_lines =[]\n",
    "with open('National_Anthem.txt', 'r') as anthem:\n",
    "    for line in anthem:\n",
    "        anthem_lines.append(line.strip())\n",
    "print(anthem_lines)"
   ]
  },
  {
   "cell_type": "markdown",
   "metadata": {},
   "source": [
    "### Appending to a file"
   ]
  },
  {
   "cell_type": "code",
   "execution_count": 16,
   "metadata": {},
   "outputs": [],
   "source": [
    "with open('Students_list.txt', 'a')as stdents_list:\n",
    "    stdents_list.write('\\nLord Listowell')\n"
   ]
  },
  {
   "cell_type": "code",
   "execution_count": 17,
   "metadata": {},
   "outputs": [
    {
     "name": "stdout",
     "output_type": "stream",
     "text": [
      "Ayoba Daniel,\n",
      "Lovely Doe,\n",
      "Sonia Mimosa,\n",
      "Andy Dackson,\n",
      "Naa Gwewah\n",
      "Lord Listowell\n"
     ]
    }
   ],
   "source": [
    "with open('Students_list.txt', 'r') as file:\n",
    "    List_of_students=file.read()\n",
    "print(List_of_students)"
   ]
  },
  {
   "cell_type": "markdown",
   "metadata": {},
   "source": [
    "Check out this [page](https://realpython.com/read-write-files-python/) for more information."
   ]
  },
  {
   "cell_type": "markdown",
   "metadata": {},
   "source": [
    "### importing local files"
   ]
  },
  {
   "cell_type": "code",
   "execution_count": 81,
   "metadata": {},
   "outputs": [],
   "source": [
    "import my_functions"
   ]
  },
  {
   "cell_type": "code",
   "execution_count": 82,
   "metadata": {},
   "outputs": [
    {
     "name": "stdout",
     "output_type": "stream",
     "text": [
      "Help on module my_functions:\n",
      "\n",
      "NAME\n",
      "    my_functions\n",
      "\n",
      "FUNCTIONS\n",
      "    bmi(height, weight)\n",
      "        This function calculates the bmi of a person\n",
      "        \n",
      "        INPUT:\n",
      "        height:float or int,height of a person in meters\n",
      "        weight: float or int,weight of a person in kilograms\n",
      "    \n",
      "    cylinder_volume(height, radius, pi=3.14186)\n",
      "    \n",
      "    return_new_age(current_age, year)\n",
      "        Calculates the age of a person at a given year from 2021.\n",
      "        \n",
      "        INPUT:\n",
      "        current_age: int, current age of the person.\n",
      "        year: int, prefered year\n",
      "        \n",
      "        OUTPUT: \n",
      "        return_new_age: current_age +(year-2021), returns age of the person at the given year from 2021\n",
      "\n",
      "DATA\n",
      "    total_number = 15\n",
      "\n",
      "FILE\n",
      "    c:\\users\\jethro\\desktop\\labs-giz\\python programming\\labs\\my_functions.py\n",
      "\n",
      "\n"
     ]
    }
   ],
   "source": [
    "help(my_functions)"
   ]
  },
  {
   "cell_type": "code",
   "execution_count": 83,
   "metadata": {},
   "outputs": [
    {
     "data": {
      "text/plain": [
       "16155.0670968"
      ]
     },
     "execution_count": 83,
     "metadata": {},
     "output_type": "execute_result"
    }
   ],
   "source": [
    "my_functions.cylinder_volume(1.08,69)"
   ]
  },
  {
   "cell_type": "code",
   "execution_count": 102,
   "metadata": {},
   "outputs": [
    {
     "data": {
      "text/plain": [
       "58"
      ]
     },
     "execution_count": 102,
     "metadata": {},
     "output_type": "execute_result"
    }
   ],
   "source": [
    "my_functions.return_new_age(23,2056)"
   ]
  },
  {
   "cell_type": "code",
   "execution_count": 104,
   "metadata": {},
   "outputs": [],
   "source": [
    "import my_functions as mf"
   ]
  },
  {
   "cell_type": "code",
   "execution_count": 96,
   "metadata": {},
   "outputs": [],
   "source": [
    "import myclasses as mc"
   ]
  },
  {
   "cell_type": "code",
   "execution_count": 97,
   "metadata": {},
   "outputs": [
    {
     "data": {
      "text/plain": [
       "'Accra'"
      ]
     },
     "execution_count": 97,
     "metadata": {},
     "output_type": "execute_result"
    }
   ],
   "source": [
    "mc.Region.national_capital"
   ]
  },
  {
   "cell_type": "code",
   "execution_count": 105,
   "metadata": {},
   "outputs": [
    {
     "data": {
      "text/plain": [
       "141.38369999999998"
      ]
     },
     "execution_count": 105,
     "metadata": {},
     "output_type": "execute_result"
    }
   ],
   "source": [
    "mf.cylinder_volume(5,3)"
   ]
  },
  {
   "cell_type": "code",
   "execution_count": 106,
   "metadata": {},
   "outputs": [
    {
     "data": {
      "text/plain": [
       "58"
      ]
     },
     "execution_count": 106,
     "metadata": {},
     "output_type": "execute_result"
    }
   ],
   "source": [
    "mf.return_new_age(23,2056)"
   ]
  },
  {
   "cell_type": "code",
   "execution_count": 107,
   "metadata": {},
   "outputs": [],
   "source": [
    "shirt_1 = mc.Shirt('T-shirt','blue',28,10)"
   ]
  },
  {
   "cell_type": "code",
   "execution_count": 108,
   "metadata": {},
   "outputs": [
    {
     "name": "stdout",
     "output_type": "stream",
     "text": [
      "T-shirt blue 10\n"
     ]
    }
   ],
   "source": [
    "print(shirt_1.category,shirt_1.colour,shirt_1.price)"
   ]
  },
  {
   "cell_type": "markdown",
   "metadata": {},
   "source": [
    "# Pyhton standard library\n",
    "[python standard library](https://docs.python.org/3/library/)"
   ]
  },
  {
   "cell_type": "markdown",
   "metadata": {},
   "source": []
  }
 ],
 "metadata": {
  "kernelspec": {
   "display_name": "Python 3 (ipykernel)",
   "language": "python",
   "name": "python3"
  },
  "language_info": {
   "codemirror_mode": {
    "name": "ipython",
    "version": 3
   },
   "file_extension": ".py",
   "mimetype": "text/x-python",
   "name": "python",
   "nbconvert_exporter": "python",
   "pygments_lexer": "ipython3",
   "version": "3.11.4"
  }
 },
 "nbformat": 4,
 "nbformat_minor": 4
}
